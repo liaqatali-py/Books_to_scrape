{
 "cells": [
  {
   "cell_type": "code",
   "execution_count": 1,
   "id": "219e3bfb",
   "metadata": {},
   "outputs": [
    {
     "data": {
      "text/plain": [
       "'https://saeedghani.pk/collections/skin-care'"
      ]
     },
     "execution_count": 1,
     "metadata": {},
     "output_type": "execute_result"
    }
   ],
   "source": [
    "\"https://saeedghani.pk/collections/skin-care\""
   ]
  },
  {
   "cell_type": "code",
   "execution_count": 2,
   "id": "4892fadf",
   "metadata": {},
   "outputs": [],
   "source": [
    "from DrissionPage import ChromiumPage\n",
    "from time import sleep"
   ]
  },
  {
   "cell_type": "code",
   "execution_count": 3,
   "id": "43e01ae2",
   "metadata": {},
   "outputs": [],
   "source": [
    "driver = ChromiumPage()"
   ]
  },
  {
   "cell_type": "code",
   "execution_count": 4,
   "id": "c9a2a8f7",
   "metadata": {},
   "outputs": [],
   "source": [
    "web_url = (\"https://saeedghani.pk/collections/skin-care\")\n",
    "driver.get(web_url)\n",
    "sleep(5)"
   ]
  },
  {
   "cell_type": "code",
   "execution_count": 5,
   "id": "78f0475b",
   "metadata": {},
   "outputs": [
    {
     "name": "stdout",
     "output_type": "stream",
     "text": [
      "[<ChromiumElement div class='grid-item col-6 col-md-4 col-lg-3 '>, <ChromiumElement div class='grid-item col-6 col-md-4 col-lg-3 '>, <ChromiumElement div class='grid-item col-6 col-md-4 col-lg-3 '>, <ChromiumElement div class='grid-item col-6 col-md-4 col-lg-3 '>, <ChromiumElement div class='grid-item col-6 col-md-4 col-lg-3 '>, <ChromiumElement div class='grid-item col-6 col-md-4 col-lg-3 '>, <ChromiumElement div class='grid-item col-6 col-md-4 col-lg-3 '>, <ChromiumElement div class='grid-item col-6 col-md-4 col-lg-3 '>, <ChromiumElement div class='grid-item col-6 col-md-4 col-lg-3 '>, <ChromiumElement div class='grid-item col-6 col-md-4 col-lg-3 '>, <ChromiumElement div class='grid-item col-6 col-md-4 col-lg-3 '>, <ChromiumElement div class='grid-item col-6 col-md-4 col-lg-3 '>, <ChromiumElement div class='grid-item col-6 col-md-4 col-lg-3 '>, <ChromiumElement div class='grid-item col-6 col-md-4 col-lg-3 '>, <ChromiumElement div class='grid-item col-6 col-md-4 col-lg-3 '>, <ChromiumElement div class='grid-item col-6 col-md-4 col-lg-3 '>, <ChromiumElement div class='grid-item col-6 col-md-4 col-lg-3 '>, <ChromiumElement div class='grid-item col-6 col-md-4 col-lg-3 '>, <ChromiumElement div class='grid-item col-6 col-md-4 col-lg-3 '>, <ChromiumElement div class='grid-item col-6 col-md-4 col-lg-3 '>, <ChromiumElement div class='grid-item col-6 col-md-4 col-lg-3 '>, <ChromiumElement div class='grid-item col-6 col-md-4 col-lg-3 '>, <ChromiumElement div class='grid-item col-6 col-md-4 col-lg-3 '>, <ChromiumElement div class='grid-item col-6 col-md-4 col-lg-3 '>, <ChromiumElement div class='grid-item col-6 col-md-4 col-lg-3 '>, <ChromiumElement div class='grid-item col-6 col-md-4 col-lg-3 '>, <ChromiumElement div class='grid-item col-6 col-md-4 col-lg-3 '>, <ChromiumElement div class='grid-item col-6 col-md-4 col-lg-3 '>, <ChromiumElement div class='grid-item col-6 col-md-4 col-lg-3 '>, <ChromiumElement div class='grid-item col-6 col-md-4 col-lg-3 '>, <ChromiumElement div class='grid-item col-6 col-md-4 col-lg-3 '>, <ChromiumElement div class='grid-item col-6 col-md-4 col-lg-3 '>, <ChromiumElement div class='grid-item col-6 col-md-4 col-lg-3 '>, <ChromiumElement div class='grid-item col-6 col-md-4 col-lg-3 '>, <ChromiumElement div class='grid-item col-6 col-md-4 col-lg-3 '>, <ChromiumElement div class='grid-item col-6 col-md-4 col-lg-3 '>, <ChromiumElement div class='grid-item col-6 col-md-4 col-lg-3 '>, <ChromiumElement div class='grid-item col-6 col-md-4 col-lg-3 '>, <ChromiumElement div class='grid-item col-6 col-md-4 col-lg-3 '>, <ChromiumElement div class='grid-item col-6 col-md-4 col-lg-3 '>, <ChromiumElement div class='grid-item col-6 col-md-4 col-lg-3 '>, <ChromiumElement div class='grid-item col-6 col-md-4 col-lg-3 '>, <ChromiumElement div class='grid-item col-6 col-md-4 col-lg-3 '>, <ChromiumElement div class='grid-item col-6 col-md-4 col-lg-3 '>, <ChromiumElement div class='grid-item col-6 col-md-4 col-lg-3 '>, <ChromiumElement div class='grid-item col-6 col-md-4 col-lg-3 '>, <ChromiumElement div class='grid-item col-6 col-md-4 col-lg-3 '>, <ChromiumElement div class='grid-item col-6 col-md-4 col-lg-3 '>, <ChromiumElement div class='grid-item col-6 col-md-4 col-lg-3 '>, <ChromiumElement div class='grid-item col-6 col-md-4 col-lg-3 '>]\n"
     ]
    }
   ],
   "source": [
    "boxes = driver.eles('xpath://div[@class=\"product-collection products-grid row\"]//div[contains(@class,\"grid-item\")]',timeout=10)\n",
    "print(boxes)"
   ]
  },
  {
   "cell_type": "code",
   "execution_count": null,
   "id": "9b23406b",
   "metadata": {},
   "outputs": [],
   "source": [
    "for box in boxes:\n",
    "            product_url_tag = box.ele('xpath:.//a[@class=\"product-title cstm-url\"]',timeout=0)\n",
    "            product_url = product_url_tag.attr('href') if product_url_tag else ''\n",
    "            product_img_tag = box.ele(\"xpath:.//div[contains(@class, 'product-image')]/a/img\",timeout=0)\n",
    "            product_img_check = product_img_tag.attr('src') if product_img_tag else ''\n",
    "            product_img = product_img_check if product_img_check else 'https:' + product_img_tag.attr('data-src')\n",
    "            product_title = product_img_tag.attr('alt') if product_img_tag else ''\n",
    "            price_box_tag = box.ele('xpath:.//div[@class=\"price-box\"]',timeout=0)\n",
    "            price_box_text = price_box_tag.text.replace('from','').strip() if price_box_tag else '' \n",
    "            all_prices = [tag for tag in price_box_text.split('Rs.') if tag]\n",
    "            new_price_tag = ''\n",
    "            old_price_tag = ''\n",
    "            dicount_price = ''\n",
    "            dicount_percentage = ''\n",
    "            if len(all_prices) > 1:\n",
    "                old_price_tag = all_prices[0].replace(',','')\n",
    "                new_price_tag = all_prices[1].replace(',','')\n",
    "                dicount_price = f'Rs. {int(old_price_tag) - int(new_price_tag)}'\n",
    "                subtraction = int(old_price_tag) - int(new_price_tag) \n",
    "                division = subtraction / int(old_price_tag)\n",
    "                dicount_percentage = f'-{str(division * 100).split('.')[0]}%'\n",
    "            else:\n",
    "                new_price_tag = all_prices[0]\n",
    "\n",
    "            old_price = f'Rs. {old_price_tag}' if old_price_tag else ''\n",
    "            new_price = f'Rs. {new_price_tag}' if new_price_tag else ''\n",
    "            row = [product_title,product_url,product_img,old_price,new_price,dicount_price,dicount_percentage]\n",
    "            print(row)\n",
    "        \n",
    "            "
   ]
  },
  {
   "cell_type": "code",
   "execution_count": null,
   "id": "ad339993",
   "metadata": {},
   "outputs": [],
   "source": []
  },
  {
   "cell_type": "code",
   "execution_count": null,
   "id": "7cb8c1be",
   "metadata": {},
   "outputs": [],
   "source": []
  },
  {
   "cell_type": "code",
   "execution_count": null,
   "id": "b67e7c2a",
   "metadata": {},
   "outputs": [],
   "source": []
  },
  {
   "cell_type": "code",
   "execution_count": null,
   "id": "a44b776a",
   "metadata": {},
   "outputs": [],
   "source": []
  },
  {
   "cell_type": "code",
   "execution_count": null,
   "id": "a04d171d",
   "metadata": {},
   "outputs": [],
   "source": []
  }
 ],
 "metadata": {
  "kernelspec": {
   "display_name": "Python 3",
   "language": "python",
   "name": "python3"
  },
  "language_info": {
   "codemirror_mode": {
    "name": "ipython",
    "version": 3
   },
   "file_extension": ".py",
   "mimetype": "text/x-python",
   "name": "python",
   "nbconvert_exporter": "python",
   "pygments_lexer": "ipython3",
   "version": "3.12.6"
  }
 },
 "nbformat": 4,
 "nbformat_minor": 5
}
