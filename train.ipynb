{
 "cells": [
  {
   "cell_type": "code",
   "execution_count": 12,
   "id": "85c3a4bf",
   "metadata": {},
   "outputs": [],
   "source": [
    "from DrissionPage import ChromiumPage\n",
    "from time import sleep"
   ]
  },
  {
   "cell_type": "code",
   "execution_count": null,
   "id": "04d181e6",
   "metadata": {},
   "outputs": [],
   "source": [
    "driver = ChromiumPage()"
   ]
  },
  {
   "cell_type": "code",
   "execution_count": null,
   "id": "e48f3ca5",
   "metadata": {},
   "outputs": [],
   "source": [
    "web_url = 'https://www.joemachensnissan.com/new-vehicles/'\n",
    "driver.get(web_url)\n",
    "sleep(3)  "
   ]
  },
  {
   "cell_type": "code",
   "execution_count": null,
   "id": "3052b4a9",
   "metadata": {},
   "outputs": [
    {
     "data": {
      "text/plain": [
       "20"
      ]
     },
     "execution_count": 5,
     "metadata": {},
     "output_type": "execute_result"
    }
   ],
   "source": [
    "boxes = driver.eles('xpath://div[@class=\"hit-image-wrap\"]')\n",
    "len(boxes)"
   ]
  },
  {
   "cell_type": "code",
   "execution_count": null,
   "id": "d2151850",
   "metadata": {},
   "outputs": [
    {
     "data": {
      "text/plain": [
       "<ChromiumElement div class='hit-image-wrap'>"
      ]
     },
     "execution_count": 6,
     "metadata": {},
     "output_type": "execute_result"
    }
   ],
   "source": [
    "box = boxes[0]\n",
    "box"
   ]
  },
  {
   "cell_type": "code",
   "execution_count": null,
   "id": "eda27b86",
   "metadata": {},
   "outputs": [
    {
     "data": {
      "text/plain": [
       "<NoneElement method=ele(), locator=xpath:.//span[@class=\"title-bottom\"], index=1, timeout=0>"
      ]
     },
     "execution_count": 8,
     "metadata": {},
     "output_type": "execute_result"
    }
   ],
   "source": [
    "title = driver.ele('xpath:.//span[@class=\"title-bottom\"]', timeout=0)\n",
    "title_text = title.text if title else ''\n",
    "title"
   ]
  },
  {
   "cell_type": "code",
   "execution_count": 16,
   "id": "01026209",
   "metadata": {},
   "outputs": [
    {
     "data": {
      "text/plain": [
       "''"
      ]
     },
     "execution_count": 16,
     "metadata": {},
     "output_type": "execute_result"
    }
   ],
   "source": [
    "stock_tag = driver.ele('xpath://div[@class, \"stock-row\")]', timeout=0)\n",
    "stock = stock_tag.text if stock_tag else ''\n",
    "stock\n"
   ]
  },
  {
   "cell_type": "code",
   "execution_count": null,
   "id": "10ab56b9",
   "metadata": {},
   "outputs": [
    {
     "name": "stdout",
     "output_type": "stream",
     "text": [
      "https://vehicle-images.dealerinspire.com/70e3-110011308/thumbnails/large/1N4BL4CV7SN317056/324dcb8519822dd8d05995fa0c198f67.jpg\n"
     ]
    }
   ],
   "source": [
    "image_tag = driver.ele('xpath://img[contains(@src, \"vehicle-images.dealerinspire.com\")]', timeout=0)\n",
    "image = image_tag.attr('src') if image_tag else ''\n",
    "print(image)"
   ]
  },
  {
   "cell_type": "code",
   "execution_count": null,
   "id": "a68eb8f0",
   "metadata": {},
   "outputs": [],
   "source": []
  },
  {
   "cell_type": "code",
   "execution_count": null,
   "metadata": {},
   "outputs": [],
   "source": []
  }
 ],
 "metadata": {
  "kernelspec": {
   "display_name": "Python 3",
   "language": "python",
   "name": "python3"
  },
  "language_info": {
   "codemirror_mode": {
    "name": "ipython",
    "version": 3
   },
   "file_extension": ".py",
   "mimetype": "text/x-python",
   "name": "python",
   "nbconvert_exporter": "python",
   "pygments_lexer": "ipython3",
   "version": "3.12.6"
  }
 },
 "nbformat": 4,
 "nbformat_minor": 5
}
